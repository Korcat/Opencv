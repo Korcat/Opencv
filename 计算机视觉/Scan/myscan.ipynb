{
 "cells": [
  {
   "cell_type": "code",
   "execution_count": 1,
   "id": "c99b3067",
   "metadata": {},
   "outputs": [],
   "source": [
    "import cv2\n",
    "import numpy as np\n"
   ]
  },
  {
   "cell_type": "code",
   "execution_count": 2,
   "id": "f70d6d25",
   "metadata": {},
   "outputs": [],
   "source": [
    "# 自定义函数\n",
    "def resize(image, width=None, height=None, inter=cv2.INTER_AREA):\n",
    "    dim = None\n",
    "    (h, w) = image.shape[:2]\n",
    "    if width is None and height is None:\n",
    "        return image\n",
    "    if width is None:\n",
    "        r = height / float(h)\n",
    "        dim = (int(w * r), height)\n",
    "    else:\n",
    "        r = width / float(w)\n",
    "        dim = (width, int(h * r))\n",
    "    resized = cv2.resize(image, dim, interpolation=inter)\n",
    "    return resized\n",
    "\n",
    "def cv_show(img,name):\n",
    "    cv2.imshow(name,img)\n",
    "    cv2.waitKey()\n",
    "    cv2.destroyAllWindows()"
   ]
  },
  {
   "cell_type": "code",
   "execution_count": 50,
   "id": "d707cb7c",
   "metadata": {},
   "outputs": [],
   "source": [
    "# 读取图片\n",
    "img=cv2.imread('images/page.jpg')\n",
    "img_copy=img.copy()\n",
    "r=img.shape[1]/500\n",
    "img=resize(img,width=500)\n",
    "cv_show(img,'img')\n",
    "gray=cv2.cvtColor(img,cv2.COLOR_BGR2GRAY)\n",
    "cv_show(gray,'gray')\n",
    "# 使用高斯滤波去模糊\n",
    "gray=cv2.GaussianBlur(gray,(5, 5), 0)\n",
    "cv_show(gray,'gray') # 效果是都变模糊了"
   ]
  },
  {
   "cell_type": "code",
   "execution_count": 8,
   "id": "7ebc8da6",
   "metadata": {},
   "outputs": [],
   "source": [
    "# canny边缘检测\n",
    "edge=cv2.Canny(gray,80,200)\n",
    "cv_show(edge,'edge')"
   ]
  },
  {
   "cell_type": "code",
   "execution_count": 14,
   "id": "2f8af2fa",
   "metadata": {},
   "outputs": [
    {
     "name": "stdout",
     "output_type": "stream",
     "text": [
      "轮廓个数为：1\n"
     ]
    }
   ],
   "source": [
    "# 轮廓检测\n",
    "cnts,_=cv2.findContours(edge.copy(),cv2.RETR_EXTERNAL, cv2.CHAIN_APPROX_SIMPLE)\n",
    "print(f'轮廓个数为：{len(cnts)}') #1个\n",
    "# 寻找最大的那个轮廓\n",
    "max_cnt=None\n",
    "max_l=0\n",
    "for cnt in cnts:\n",
    "    l=cv2.arcLength(cnt,True)\n",
    "    if l>max_l:\n",
    "        max_l=l\n",
    "        max_cnt=cnt\n",
    "# 再将得到的最大轮廓进行近似，因为其边缘可能有一些尖刺\n",
    "approx=cv2.approxPolyDP(max_cnt,0.02*max_l,True) # 四个坐标点\n",
    "cv2.drawContours(img,[approx],-1,(0,0,255),2)\n",
    "cv_show(img,'cnt')"
   ]
  },
  {
   "cell_type": "code",
   "execution_count": 30,
   "id": "35a1518c",
   "metadata": {},
   "outputs": [
    {
     "data": {
      "text/plain": [
       "True"
      ]
     },
     "execution_count": 30,
     "metadata": {},
     "output_type": "execute_result"
    }
   ],
   "source": [
    "\"\"\"\n",
    "1.每一个cnt都有很多个坐标\n",
    "2.approx只用4个坐标，连接起来就是一个四边形\n",
    "\"\"\"\n",
    "# 透视变换\n",
    "\"\"\"\n",
    "将原来的的近似轮廓四边形变为一个矩形并贴合边角\n",
    "\"\"\"\n",
    "def order_points(pts):\n",
    "    # 一共4个坐标点\n",
    "    rect = np.zeros((4, 2), dtype=\"float32\")\n",
    "\n",
    "    # 按顺序找到对应坐标0123分别是 左上，右上，右下，左下\n",
    "    # 计算左上，右下\n",
    "    s = pts.sum(axis=1)\n",
    "    rect[0] = pts[np.argmin(s)]\n",
    "    rect[2] = pts[np.argmax(s)]\n",
    "\n",
    "    # 计算右上和左下\n",
    "    diff = np.diff(pts, axis=1)\n",
    "    rect[1] = pts[np.argmin(diff)]\n",
    "    rect[3] = pts[np.argmax(diff)]\n",
    "\n",
    "    return rect\n",
    "\n",
    "def four_point_transform(image, pts):\n",
    "    # 获取输入坐标点\n",
    "    rect = order_points(pts)\n",
    "    (tl, tr, br, bl) = rect\n",
    "\n",
    "    # 计算输入的w和h值\n",
    "    widthA = np.sqrt(((br[0] - bl[0]) ** 2) + ((br[1] - bl[1]) ** 2))\n",
    "    widthB = np.sqrt(((tr[0] - tl[0]) ** 2) + ((tr[1] - tl[1]) ** 2))\n",
    "    maxWidth = max(int(widthA), int(widthB))\n",
    "\n",
    "    heightA = np.sqrt(((tr[0] - br[0]) ** 2) + ((tr[1] - br[1]) ** 2))\n",
    "    heightB = np.sqrt(((tl[0] - bl[0]) ** 2) + ((tl[1] - bl[1]) ** 2))\n",
    "    maxHeight = max(int(heightA), int(heightB))\n",
    "\n",
    "    # 变换后对应坐标位置\n",
    "    dst = np.array([\n",
    "        [0, 0],\n",
    "        [maxWidth - 1, 0],\n",
    "        [maxWidth - 1, maxHeight - 1],\n",
    "        [0, maxHeight - 1]], dtype=\"float32\")\n",
    "\n",
    "    # 计算变换矩阵\n",
    "    M = cv2.getPerspectiveTransform(rect, dst)\n",
    "    warped = cv2.warpPerspective(image, M, (maxWidth, maxHeight))\n",
    "\n",
    "    # 返回变换后结果\n",
    "    return warped\n",
    "\n",
    "r # 之前resize的比例\n",
    "approx # 四个边角点\n",
    "warped = four_point_transform(img_copy,approx.reshape(4,2)*r) # 透视变换\n",
    "\n",
    "# 二值处理\n",
    "warped = cv2.cvtColor(warped, cv2.COLOR_BGR2GRAY)\n",
    "ref = cv2.threshold(warped, 100, 255, cv2.THRESH_BINARY)[1]\n",
    "cv_show(resize(ref,width=500),'ref')\n",
    "cv2.imwrite('scan.jpg',ref)"
   ]
  },
  {
   "cell_type": "code",
   "execution_count": 43,
   "id": "095b6d1c",
   "metadata": {},
   "outputs": [],
   "source": [
    "# OCR文字识别\n",
    "import pytesseract as ocr\n",
    "import PIL"
   ]
  },
  {
   "cell_type": "code",
   "execution_count": 45,
   "id": "ab5bac52",
   "metadata": {},
   "outputs": [],
   "source": [
    "img=cv2.imread('scan.jpg',0)\n",
    "# img=resize(img,width=500)\n",
    "# thresh=cv2.threshold(img,200,255,cv2.THRESH_BINARY)[1]\n",
    "cv_show(img,'img')"
   ]
  },
  {
   "cell_type": "code",
   "execution_count": 47,
   "id": "374af32e",
   "metadata": {},
   "outputs": [
    {
     "name": "stdout",
     "output_type": "stream",
     "text": [
      "JB ACCRSSING AND MANITLDALENG. PEXtES\n",
      "\n",
      "On Line 14 we manipulate the top-left pixel in the im-\n",
      "age, which is located at coordinate 11,0. and set it to have\n",
      "avalue of 60, 0, 255). If we were reading this pirrel value\n",
      "in RGB format, we would have a value of 9 for red, 9 for\n",
      "green, and 255 tor blue, thus making, ita pure blue color\n",
      "\n",
      "However, as | mentioned above, we need to take special\n",
      "care when working, with OpenCY. Our pixels are actually\n",
      "stored in BGR format, not RGB format\n",
      "\n",
      "We actually read this pixel as 255 for red, 0 for green, and\n",
      "0 for blue, making it a red color, not a blue color.\n",
      "\n",
      "After setting the top-left pixel to have a red color on Line\n",
      "14, we then grab the pixel value and print it back to con-\n",
      "sole on Lines 15 and 16, just to demonstrate that we have\n",
      "indeed successfully changed the color of the pixel\n",
      "\n",
      "Accessing and setting a single pixel value is simple enough,\n",
      "& o o ao\n",
      "but what if we wanted to use NumPy’s array slicing capa-\n",
      "bilities to access larger rectangular portions of the image?\n",
      "\n",
      "The code below demonstrates how we can do this:\n",
      "\n",
      "i> corner = image[0:100, 0:100]\n",
      "1x cv2.imshow( » corner)\n",
      "\n",
      "eo image[0:100, 0:100] - (0, 255, 0)\n",
      "\n",
      "2: ¢v2.imshow( » image)\n",
      "2 ¢v2.waitKey (0)\n",
      "\n",
      "On line 17 we grab a 100 - 100 pixel region of the image.\n",
      "In fact, this is the top-left corner of the image! In order to\n",
      "grab chunks of an image, NumPy expects we provide four\n",
      "\n",
      "tv\n",
      "iS)\n",
      "\n"
     ]
    }
   ],
   "source": [
    "# text=ocr.image_to_string(PIL.Image.open('scan.jpg'))\n",
    "text=ocr.image_to_string(img)\n",
    "\n",
    "print(text)"
   ]
  },
  {
   "cell_type": "code",
   "execution_count": 49,
   "id": "69c24095",
   "metadata": {},
   "outputs": [
    {
     "name": "stdout",
     "output_type": "stream",
     "text": [
      "Jd ACC RSSING AND MANITLDALENG PEXtES\n",
      "\n",
      "On Line 14 we manipulate the top-left pixel in the im-\n",
      "age, which is located at coordinate 1,0. and set it to have\n",
      "avalue of 60, 0, 255). If we were reading this pirrel value\n",
      "in RGB format, we would have a value of 9 for red, 9 for\n",
      "green, and 255 tor blue, thus making ita pure blue color\n",
      "\n",
      "However, as | mentioned above, we need to take special\n",
      "care when working, with OpenCY. Our pixels are actually\n",
      "stored in BGR format, not RGB format\n",
      "\n",
      "We actually read this pixel as 255 for red, 0 for green, and\n",
      "0 for blue, making it a red color, not a blue color.\n",
      "\n",
      "After setting the top-left pixel to have a red color on Line\n",
      "14, we then grab the pixel value and print it back to con-\n",
      "sole on Lines 15 and 16, just to demonstrate that we have\n",
      "indeed successfully changed the color of the pixel\n",
      "\n",
      "Accessing and setting a single pixel value is simple enough,\n",
      "& o o cr\n",
      "but what if we wanted to use NumPy’s array slicing capa-\n",
      "bilities to access larger rectangular portions of the image?\n",
      "\n",
      "The code below demonstrates how we can do this:\n",
      "\n",
      "i> corner = image[0:100, 0:100]\n",
      "1x cv2.imshow( » corner)\n",
      "\n",
      "eo image[0:100, 0:100] - (0, 255, 0)\n",
      "\n",
      "2: ¢v2.imshow( » lmage)\n",
      "2m ¢v2.waitKey (0)\n",
      "\n",
      "On line 17 we grab a 100 - 100 pixel region of the image.\n",
      "In fact, this is the top-left corner of the image! In order to\n",
      "grab chunks of an image, NumPy expects we provide four\n",
      "\n",
      "Rv\n",
      "is)\n",
      "\n"
     ]
    }
   ],
   "source": [
    "text=ocr.image_to_string(PIL.Image.open('scan.jpg'))\n",
    "print(text)"
   ]
  },
  {
   "cell_type": "code",
   "execution_count": null,
   "id": "92a13471",
   "metadata": {},
   "outputs": [],
   "source": []
  }
 ],
 "metadata": {
  "kernelspec": {
   "display_name": "Python [conda env:pytorch] *",
   "language": "python",
   "name": "conda-env-pytorch-py"
  },
  "language_info": {
   "codemirror_mode": {
    "name": "ipython",
    "version": 3
   },
   "file_extension": ".py",
   "mimetype": "text/x-python",
   "name": "python",
   "nbconvert_exporter": "python",
   "pygments_lexer": "ipython3",
   "version": "3.8.13"
  }
 },
 "nbformat": 4,
 "nbformat_minor": 5
}
